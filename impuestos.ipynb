{
  "nbformat": 4,
  "nbformat_minor": 0,
  "metadata": {
    "colab": {
      "provenance": [],
      "authorship_tag": "ABX9TyMmIiM0/Dt4qiTUoWeTutE7",
      "include_colab_link": true
    },
    "kernelspec": {
      "name": "python3",
      "display_name": "Python 3"
    },
    "language_info": {
      "name": "python"
    }
  },
  "cells": [
    {
      "cell_type": "markdown",
      "metadata": {
        "id": "view-in-github",
        "colab_type": "text"
      },
      "source": [
        "<a href=\"https://colab.research.google.com/github/Carlos-Paredes-UPIIC/python_2023/blob/main/impuestos.ipynb\" target=\"_parent\"><img src=\"https://colab.research.google.com/assets/colab-badge.svg\" alt=\"Open In Colab\"/></a>"
      ]
    },
    {
      "cell_type": "code",
      "source": [
        "# Demostración paso a paso\n",
        "# pasos del algortimo\n",
        "# 1.- Solicitar al usuario el valor del ingreso mensual\n",
        "# 2.- Convertir la variable a float\n",
        "# 3.- Declarar la primer condicional con rango de menor igual a 999\n",
        "# 4.- Si es verdadero se asigna el valor de 5% a la variable tasa\n",
        "# 5.- Si la condicional es verdadera se asigna a la variable resultado el valor de ingreso por tasa\n",
        "# 6.- Imprimir el valor de la variable resultado\n",
        "# 7.- Si la primer condicional es falsa se declara la segunda condicional con rango mayor igual a 1000 y menor igual a 1999\n",
        "# 8.- Si es verdadero se asigna el valor de 15% a la variable tasa\n",
        "# 9.- Si la condicional es verdadera se asigna a la variable resultado el valor de ingreso por tasa\n",
        "# 10.- Imprimir el valor de la variable resultado\n",
        "# 11.- Si la segunda condicional es falsa se declara la tercer condicional con rango mayor igual a 2000 y menor igual a 2999\n",
        "# 12.- Si es verdadero se asigna el valor de 20% a la variable tasa\n",
        "# 13.- Si la condicional es verdadera se asigna a la variable resultado el valor de ingreso por tasa\n",
        "# 14.- Imprimir el valor de la variable resultado\n",
        "# 15.- Si la tercer condicional es falsa se declara la cuarta condicional con rango mayor igual a 3000\n",
        "# 16.- Si es verdadero se asigna el valor de 30% a la variable tasa\n",
        "# 17.- Si la condicional es verdadera se asigna a la variable resultado el valor de ingreso por tasa\n",
        "# 18.- Imprimir el valor de la variable resultado\n",
        "# 19.- Si no se cumple ninguna de las condiciones anteriores imprime el texto número incorrecto\n",
        "# fin del programa"
      ],
      "metadata": {
        "id": "d-4PYr8tyYKk"
      },
      "execution_count": null,
      "outputs": []
    },
    {
      "cell_type": "code",
      "execution_count": 4,
      "metadata": {
        "colab": {
          "base_uri": "https://localhost:8080/"
        },
        "id": "DIMQRGIPxpwF",
        "outputId": "371f212f-5be9-43c5-d81b-fbc0a674bc18"
      },
      "outputs": [
        {
          "output_type": "stream",
          "name": "stdout",
          "text": [
            " dame el ingreso total? 1000\n",
            "150.0\n"
          ]
        }
      ],
      "source": [
        "ingreso = float(input(\" dame el ingreso total? \"))\n",
        "if ingreso <= 999:\n",
        "  tasa = 0.05\n",
        "  resultado = ingreso * tasa\n",
        "  print(resultado)\n",
        "elif ingreso >= 1000 and ingreso <= 1999:\n",
        "  tasa = 0.15\n",
        "  resultado = ingreso * tasa\n",
        "  print(resultado)\n",
        "elif ingreso >= 2000 and ingreso <= 2999:\n",
        "  tasa = 0.20\n",
        "  resultado = ingreso * tasa\n",
        "  print(resultado)\n",
        "elif ingreso >= 3000:\n",
        "  tasa = 0.30\n",
        "  resultado = ingreso * tasa\n",
        "  print(resultado)\n",
        "else:\n",
        "  print(\"Número incorrecto\")"
      ]
    },
    {
      "cell_type": "markdown",
      "source": [],
      "metadata": {
        "id": "czBhGGSRyWhZ"
      }
    }
  ]
}