{
  "nbformat": 4,
  "nbformat_minor": 0,
  "metadata": {
    "colab": {
      "provenance": [],
      "authorship_tag": "ABX9TyM/R4bRHzcIBP7YEYlWC6bj",
      "include_colab_link": true
    },
    "kernelspec": {
      "name": "python3",
      "display_name": "Python 3"
    },
    "language_info": {
      "name": "python"
    }
  },
  "cells": [
    {
      "cell_type": "markdown",
      "metadata": {
        "id": "view-in-github",
        "colab_type": "text"
      },
      "source": [
        "<a href=\"https://colab.research.google.com/github/Carlos-Paredes-UPIIC/python_2023/blob/main/circulo.ipynb\" target=\"_parent\"><img src=\"https://colab.research.google.com/assets/colab-badge.svg\" alt=\"Open In Colab\"/></a>"
      ]
    },
    {
      "cell_type": "code",
      "source": [
        "# Demostración paso a paso\n",
        "# pasos del algortimo\n",
        "# 1.- Solicitar al usuario el valor de la variable r\n",
        "# 2.- Convertir la variable a float\n",
        "# 3.- Declarar la constante PI=3.14159\n",
        "# 4.- calcular el área del circulo\n",
        "# 5.- calcular el perímetro del circulo\n",
        "# 6.- verificar el tipo de variable de salida para el área (opcional)\n",
        "# 7.- verificar el tipo de variable de salida para el pérmietro (opcional)\n",
        "# 8.- imprimir el texto \"el área del circulo es\" y el resultado del cálculo área\n",
        "# 9.- imprimir el texto \"el perímetro del circulo es\" y el resultado del cálculo del perímetro\n",
        "# fin del programa"
      ],
      "metadata": {
        "id": "svGEgdNYVQ1E"
      },
      "execution_count": null,
      "outputs": []
    },
    {
      "cell_type": "code",
      "execution_count": 5,
      "metadata": {
        "colab": {
          "base_uri": "https://localhost:8080/"
        },
        "id": "qeM-ofQKTlIO",
        "outputId": "40516202-b159-4986-f725-4808b6535e4b"
      },
      "outputs": [
        {
          "output_type": "stream",
          "name": "stdout",
          "text": [
            " DAME EL VALOR DEL RADIO 4.5\n",
            "<class 'float'>\n",
            "<class 'float'>\n",
            "el área del circulo es  63.6171975\n",
            "el perímetro del circulo es   28.27431\n"
          ]
        }
      ],
      "source": [
        "from typing_extensions import final\n",
        "# Programa que calcula el área y perímetro de un circulo\n",
        "r = float(input(\" DAME EL VALOR DEL RADIO \")) #solicita el valor del radio\n",
        "pi = 3.14159 #asignamos el valor a la constante pi\n",
        "area = (pi * r * r)\n",
        "perimetro = ((2*pi)* r)\n",
        "print(type(area)) #verificamos el tipo de variable de salida\n",
        "print(type(perimetro)) #verificamos el tipo de variable de salida\n",
        "print (\"el área del circulo es \",area)\n",
        "print (\"el perímetro del circulo es  \",perimetro)\n",
        "\n"
      ]
    }
  ]
}