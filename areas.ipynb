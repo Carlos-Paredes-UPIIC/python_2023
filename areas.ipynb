{
  "nbformat": 4,
  "nbformat_minor": 0,
  "metadata": {
    "colab": {
      "provenance": [],
      "authorship_tag": "ABX9TyO23DMi/m1HwK/mOsNg3KCW",
      "include_colab_link": true
    },
    "kernelspec": {
      "name": "python3",
      "display_name": "Python 3"
    },
    "language_info": {
      "name": "python"
    }
  },
  "cells": [
    {
      "cell_type": "markdown",
      "metadata": {
        "id": "view-in-github",
        "colab_type": "text"
      },
      "source": [
        "<a href=\"https://colab.research.google.com/github/Carlos-Paredes-UPIIC/python_2023/blob/main/areas.ipynb\" target=\"_parent\"><img src=\"https://colab.research.google.com/assets/colab-badge.svg\" alt=\"Open In Colab\"/></a>"
      ]
    },
    {
      "cell_type": "code",
      "source": [
        "# Demostración paso a paso\n",
        "# pasos del algortimo\n",
        "# 1.- definir el nombre de la función\n",
        "# 2.- asignar la variable en la función\n",
        "# 3.- calcular el área del cuadrado utilizando la variable asignada\n",
        "# 4.- imprimir el resultado del cálculo\n",
        "# 5.- terminar la función\n",
        "# 6.- llamar la función con el valor que se asignará a la variable\n",
        "\n"
      ],
      "metadata": {
        "id": "ujvhDIIcJtCG"
      },
      "execution_count": null,
      "outputs": []
    },
    {
      "cell_type": "code",
      "execution_count": 21,
      "metadata": {
        "id": "Lm51mKj6EN5u"
      },
      "outputs": [],
      "source": [
        "def area_cuadrado(lado):\n",
        "  area = lado * lado\n",
        "  print(\"El área del cuadrado es  \",area)"
      ]
    },
    {
      "cell_type": "code",
      "source": [
        "area_cuadrado(10.5)\n"
      ],
      "metadata": {
        "colab": {
          "base_uri": "https://localhost:8080/"
        },
        "id": "Xhl-IPc9FANA",
        "outputId": "f99cce80-ee35-4737-d3bf-8822fc4520c2"
      },
      "execution_count": 22,
      "outputs": [
        {
          "output_type": "stream",
          "name": "stdout",
          "text": [
            "El área del cuadrado es   110.25\n"
          ]
        }
      ]
    },
    {
      "cell_type": "code",
      "source": [
        "# Demostración paso a paso\n",
        "# pasos del algortimo\n",
        "# 1.- definir la variable global (pi=3.14159)\n",
        "# 1.- definir el nombre de la función\n",
        "# 2.- asignar la variable local en la función (r)\n",
        "# 3.- calcular el área del circulo utilizando la variable global y la variable local\n",
        "# 4.- imprimir el resultado del cálculo\n",
        "# 5.- terminar la función\n",
        "# 6.- llamar la función con el valor que se asignará a la variable\n"
      ],
      "metadata": {
        "id": "FBv0kWtNKxh9"
      },
      "execution_count": null,
      "outputs": []
    },
    {
      "cell_type": "code",
      "source": [
        "pi = 3.14159\n",
        "def ar_circulo(r):\n",
        "  arcir = pi*(r*r)\n",
        "  print(\"El área del circulo es  \",arcir)\n",
        ""
      ],
      "metadata": {
        "id": "fGnuypRgIjHA"
      },
      "execution_count": 18,
      "outputs": []
    },
    {
      "cell_type": "code",
      "source": [
        "ar_circulo(5)"
      ],
      "metadata": {
        "colab": {
          "base_uri": "https://localhost:8080/"
        },
        "id": "id2W-AUFJI98",
        "outputId": "1a49c28a-4b1c-412b-fbea-18e5c1f6894b"
      },
      "execution_count": 20,
      "outputs": [
        {
          "output_type": "stream",
          "name": "stdout",
          "text": [
            "El área del circulo es   78.53975\n"
          ]
        }
      ]
    }
  ]
}