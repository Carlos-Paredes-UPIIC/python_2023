{
  "nbformat": 4,
  "nbformat_minor": 0,
  "metadata": {
    "colab": {
      "provenance": [],
      "authorship_tag": "ABX9TyN35iPHhW+KLfnOcFOdEx1V",
      "include_colab_link": true
    },
    "kernelspec": {
      "name": "python3",
      "display_name": "Python 3"
    },
    "language_info": {
      "name": "python"
    }
  },
  "cells": [
    {
      "cell_type": "markdown",
      "metadata": {
        "id": "view-in-github",
        "colab_type": "text"
      },
      "source": [
        "<a href=\"https://colab.research.google.com/github/Carlos-Paredes-UPIIC/python_2023/blob/main/cancion.ipynb\" target=\"_parent\"><img src=\"https://colab.research.google.com/assets/colab-badge.svg\" alt=\"Open In Colab\"/></a>"
      ]
    },
    {
      "cell_type": "code",
      "source": [
        "# Demostración paso a paso\n",
        "# pasos del algortimo\n",
        "# 1.- Solicitar al usuario el valor del día de la semana especificar si se escribe en un formato de minúscula o mayúscula\n",
        "# 2.- Convertir la variable a string (str)\n",
        "# 3.- Declarar la primer condicional con valor str \"lunes\"\n",
        "# 4.- Si es verdadero se imprime el texto Principio de semana?\n",
        "# 5.- Si la condicional es verdadera se imprime No voy a trabajar!\n",
        "# 6.- Si la primer condicional es falsa se declara la segunda condicional con valor str \"martes\"\n",
        "# 7.- Si es verdadero se imprime el texto Ni te cases ni te embarques\n",
        "# 8.- Si la condicional es verdadera se imprime No voy a trabajar!\n",
        "# 9.- Si la segunda condicional es falsa se declara la tercer condicional con valor str \"miercoles\" y se asigna el operador \"or\" para incluir la palabra acentuada \"miércoles\"\n",
        "# 10.- Si es verdadero se imprime el texto Se casa la patrona\n",
        "# 11.- Si la condicional es verdadera se imprime No voy a trabajar!\n",
        "# 12.- Si la tercer condicional es falsa se declara la cuarta condicional con valor str \"jueves\"\n",
        "# 13.- Si es verdadero se imprime el texto Estoy muy desvelado\n",
        "# 14.- Si la condicional es verdadera se imprime No voy a trabajar!\n",
        "# 15.- Si la cuarta condicional es falsa se declara la quinta condicional con valor str \"viernes\"\n",
        "# 16.- Si es verdadero se imprime el texto Que muere jesucristo!, Donde se ha visto?\n",
        "# 17.- Si la condicional es verdadera se imprime No voy a trabajar!\n",
        "# 18.- Si la quinta condicional es falsa se declara la sexta condicional con valor str \"sabado\" y se asigna el operador \"or\" para incluir la palabra acentuada \"sábado\"\n",
        "# 19.- Si es verdadero se imprime el texto Que muere jesucristo!, Donde se ha visto?\n",
        "# 20.- Si la condicional es verdadera se imprime No voy a trabajar!\n",
        "# 21.- Si no se cumple ninguna de las condiciones anteriores\n",
        "# 22.- Imprime el texto termina la semana, descanso merecido\n",
        "# 23.- Imprime el texto No voy a trabajar!\n",
        "# fin del programa\n"
      ],
      "metadata": {
        "id": "7o-5U3e89_8s"
      },
      "execution_count": null,
      "outputs": []
    },
    {
      "cell_type": "code",
      "execution_count": 3,
      "metadata": {
        "colab": {
          "base_uri": "https://localhost:8080/"
        },
        "id": "im6CV7Cg9Hw3",
        "outputId": "3ce46269-f9d7-473c-a95f-f2c6d1620310"
      },
      "outputs": [
        {
          "output_type": "stream",
          "name": "stdout",
          "text": [
            "Que día de la semana? (escribir todo con minúscula) sábado\n",
            "Trabajo medio día\n",
            "No voy a trabajar!\n"
          ]
        }
      ],
      "source": [
        "dia = str(input (\"Que día de la semana? (escribir todo con minúscula) \"))\n",
        "\n",
        "if dia == \"lunes\":\n",
        "  print(\"Principio de semana?\")\n",
        "  print(\"No voy a trabajar!\")\n",
        "elif dia == \"martes\":\n",
        "  print(\"Ni te cases ni te embarques\")\n",
        "  print(\"No voy a trabajar!\")\n",
        "elif dia == \"miercoles\" or dia == \"miércoles\":\n",
        "  print(\"Se casa la patrona\")\n",
        "  print(\"No voy a trabajar!\")\n",
        "elif dia == \"jueves\":\n",
        "  print(\"Estoy muy desvelado\")\n",
        "  print(\"No voy a trabajar!\")\n",
        "elif dia == \"viernes\":\n",
        "  print(\"Que muere jesucristo!, Donde se ha visto?  \")\n",
        "  print(\"No voy a trabajar!\")\n",
        "elif dia == \"sábado\" or dia == \"sabado\":\n",
        "  print(\"Trabajo medio día\")\n",
        "  print(\"No voy a trabajar!\")\n",
        "else:\n",
        "  print(\"termina la semana, descanso merecido\")\n",
        "  print(\"No voy a trabajar!\")"
      ]
    }
  ]
}